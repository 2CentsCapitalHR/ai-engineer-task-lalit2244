{
 "cells": [
  {
   "cell_type": "code",
   "execution_count": 4,
   "id": "64a63349-569f-431e-80ad-9569cd6869ae",
   "metadata": {},
   "outputs": [
    {
     "name": "stdout",
     "output_type": "stream",
     "text": [
      "Defaulting to user installation because normal site-packages is not writeable\n",
      "Requirement already satisfied: pip in c:\\programdata\\anaconda3\\lib\\site-packages (25.1)\n",
      "Collecting pip\n",
      "  Downloading pip-25.2-py3-none-any.whl.metadata (4.7 kB)\n",
      "Downloading pip-25.2-py3-none-any.whl (1.8 MB)\n",
      "   ---------------------------------------- 0.0/1.8 MB ? eta -:--:--\n",
      "   ---------------------------------------- 0.0/1.8 MB ? eta -:--:--\n",
      "   ----------- ---------------------------- 0.5/1.8 MB 3.3 MB/s eta 0:00:01\n",
      "   ----------------------- ---------------- 1.0/1.8 MB 2.2 MB/s eta 0:00:01\n",
      "   ---------------------------------------- 1.8/1.8 MB 2.7 MB/s eta 0:00:00\n",
      "Installing collected packages: pip\n",
      "Successfully installed pip-25.2\n"
     ]
    },
    {
     "name": "stderr",
     "output_type": "stream",
     "text": [
      "  WARNING: The scripts pip.exe, pip3.13.exe and pip3.exe are installed in 'C:\\Users\\Admin\\AppData\\Roaming\\Python\\Python313\\Scripts' which is not on PATH.\n",
      "  Consider adding this directory to PATH or, if you prefer to suppress this warning, use --no-warn-script-location.\n"
     ]
    },
    {
     "name": "stdout",
     "output_type": "stream",
     "text": [
      "Defaulting to user installation because normal site-packages is not writeable\n",
      "Requirement already satisfied: pandas in c:\\programdata\\anaconda3\\lib\\site-packages (2.2.3)\n",
      "Requirement already satisfied: requests in c:\\programdata\\anaconda3\\lib\\site-packages (2.32.3)\n",
      "Requirement already satisfied: tqdm in c:\\programdata\\anaconda3\\lib\\site-packages (4.67.1)\n",
      "Requirement already satisfied: python-docx in c:\\users\\admin\\appdata\\roaming\\python\\python313\\site-packages (1.2.0)\n",
      "Requirement already satisfied: streamlit in c:\\programdata\\anaconda3\\lib\\site-packages (1.45.1)\n",
      "Requirement already satisfied: numpy>=1.26.0 in c:\\programdata\\anaconda3\\lib\\site-packages (from pandas) (2.1.3)\n",
      "Requirement already satisfied: python-dateutil>=2.8.2 in c:\\programdata\\anaconda3\\lib\\site-packages (from pandas) (2.9.0.post0)\n",
      "Requirement already satisfied: pytz>=2020.1 in c:\\programdata\\anaconda3\\lib\\site-packages (from pandas) (2024.1)\n",
      "Requirement already satisfied: tzdata>=2022.7 in c:\\programdata\\anaconda3\\lib\\site-packages (from pandas) (2025.2)\n",
      "Requirement already satisfied: charset-normalizer<4,>=2 in c:\\programdata\\anaconda3\\lib\\site-packages (from requests) (3.3.2)\n",
      "Requirement already satisfied: idna<4,>=2.5 in c:\\programdata\\anaconda3\\lib\\site-packages (from requests) (3.7)\n",
      "Requirement already satisfied: urllib3<3,>=1.21.1 in c:\\programdata\\anaconda3\\lib\\site-packages (from requests) (2.3.0)\n",
      "Requirement already satisfied: certifi>=2017.4.17 in c:\\programdata\\anaconda3\\lib\\site-packages (from requests) (2025.4.26)\n",
      "Requirement already satisfied: colorama in c:\\programdata\\anaconda3\\lib\\site-packages (from tqdm) (0.4.6)\n",
      "Requirement already satisfied: lxml>=3.1.0 in c:\\programdata\\anaconda3\\lib\\site-packages (from python-docx) (5.3.0)\n",
      "Requirement already satisfied: typing_extensions>=4.9.0 in c:\\programdata\\anaconda3\\lib\\site-packages (from python-docx) (4.12.2)\n",
      "Requirement already satisfied: altair<6,>=4.0 in c:\\programdata\\anaconda3\\lib\\site-packages (from streamlit) (5.5.0)\n",
      "Requirement already satisfied: blinker<2,>=1.5.0 in c:\\programdata\\anaconda3\\lib\\site-packages (from streamlit) (1.9.0)\n",
      "Requirement already satisfied: cachetools<6,>=4.0 in c:\\programdata\\anaconda3\\lib\\site-packages (from streamlit) (5.5.1)\n",
      "Requirement already satisfied: click<9,>=7.0 in c:\\programdata\\anaconda3\\lib\\site-packages (from streamlit) (8.1.8)\n",
      "Requirement already satisfied: packaging<25,>=20 in c:\\programdata\\anaconda3\\lib\\site-packages (from streamlit) (24.2)\n",
      "Requirement already satisfied: pillow<12,>=7.1.0 in c:\\programdata\\anaconda3\\lib\\site-packages (from streamlit) (11.1.0)\n",
      "Requirement already satisfied: protobuf<7,>=3.20 in c:\\programdata\\anaconda3\\lib\\site-packages (from streamlit) (5.29.3)\n",
      "Requirement already satisfied: pyarrow>=7.0 in c:\\programdata\\anaconda3\\lib\\site-packages (from streamlit) (19.0.0)\n",
      "Requirement already satisfied: tenacity<10,>=8.1.0 in c:\\programdata\\anaconda3\\lib\\site-packages (from streamlit) (9.0.0)\n",
      "Requirement already satisfied: toml<2,>=0.10.1 in c:\\programdata\\anaconda3\\lib\\site-packages (from streamlit) (0.10.2)\n",
      "Requirement already satisfied: watchdog<7,>=2.1.5 in c:\\programdata\\anaconda3\\lib\\site-packages (from streamlit) (4.0.2)\n",
      "Requirement already satisfied: gitpython!=3.1.19,<4,>=3.0.7 in c:\\programdata\\anaconda3\\lib\\site-packages (from streamlit) (3.1.43)\n",
      "Requirement already satisfied: tornado<7,>=6.0.3 in c:\\programdata\\anaconda3\\lib\\site-packages (from streamlit) (6.5.1)\n",
      "Requirement already satisfied: jinja2 in c:\\programdata\\anaconda3\\lib\\site-packages (from altair<6,>=4.0->streamlit) (3.1.6)\n",
      "Requirement already satisfied: jsonschema>=3.0 in c:\\programdata\\anaconda3\\lib\\site-packages (from altair<6,>=4.0->streamlit) (4.23.0)\n",
      "Requirement already satisfied: narwhals>=1.14.2 in c:\\programdata\\anaconda3\\lib\\site-packages (from altair<6,>=4.0->streamlit) (1.31.0)\n",
      "Requirement already satisfied: gitdb<5,>=4.0.1 in c:\\programdata\\anaconda3\\lib\\site-packages (from gitpython!=3.1.19,<4,>=3.0.7->streamlit) (4.0.7)\n",
      "Requirement already satisfied: smmap<5,>=3.0.1 in c:\\programdata\\anaconda3\\lib\\site-packages (from gitdb<5,>=4.0.1->gitpython!=3.1.19,<4,>=3.0.7->streamlit) (4.0.0)\n",
      "Requirement already satisfied: attrs>=22.2.0 in c:\\programdata\\anaconda3\\lib\\site-packages (from jsonschema>=3.0->altair<6,>=4.0->streamlit) (24.3.0)\n",
      "Requirement already satisfied: jsonschema-specifications>=2023.03.6 in c:\\programdata\\anaconda3\\lib\\site-packages (from jsonschema>=3.0->altair<6,>=4.0->streamlit) (2023.7.1)\n",
      "Requirement already satisfied: referencing>=0.28.4 in c:\\programdata\\anaconda3\\lib\\site-packages (from jsonschema>=3.0->altair<6,>=4.0->streamlit) (0.30.2)\n",
      "Requirement already satisfied: rpds-py>=0.7.1 in c:\\programdata\\anaconda3\\lib\\site-packages (from jsonschema>=3.0->altair<6,>=4.0->streamlit) (0.22.3)\n",
      "Requirement already satisfied: six>=1.5 in c:\\programdata\\anaconda3\\lib\\site-packages (from python-dateutil>=2.8.2->pandas) (1.17.0)\n",
      "Requirement already satisfied: MarkupSafe>=2.0 in c:\\programdata\\anaconda3\\lib\\site-packages (from jinja2->altair<6,>=4.0->streamlit) (3.0.2)\n"
     ]
    }
   ],
   "source": [
    "import sys\n",
    "\n",
    "# Use pip from the same Python environment Jupyter is using\n",
    "!{sys.executable} -m pip install --upgrade pip\n",
    "!{sys.executable} -m pip install pandas requests tqdm python-docx streamlit --no-cache-dir\n"
   ]
  },
  {
   "cell_type": "code",
   "execution_count": 5,
   "id": "62acb9ed-fe91-4cf2-b688-0e5ce63ba033",
   "metadata": {},
   "outputs": [
    {
     "name": "stdout",
     "output_type": "stream",
     "text": [
      "Defaulting to user installation because normal site-packages is not writeable\n",
      "Requirement already satisfied: pandas in c:\\programdata\\anaconda3\\lib\\site-packages (2.2.3)\n",
      "Requirement already satisfied: requests in c:\\programdata\\anaconda3\\lib\\site-packages (2.32.3)\n",
      "Requirement already satisfied: tqdm in c:\\programdata\\anaconda3\\lib\\site-packages (4.67.1)\n",
      "Requirement already satisfied: python-docx in c:\\users\\admin\\appdata\\roaming\\python\\python313\\site-packages (1.2.0)\n",
      "Requirement already satisfied: streamlit in c:\\programdata\\anaconda3\\lib\\site-packages (1.45.1)\n",
      "Requirement already satisfied: numpy>=1.26.0 in c:\\programdata\\anaconda3\\lib\\site-packages (from pandas) (2.1.3)\n",
      "Requirement already satisfied: python-dateutil>=2.8.2 in c:\\programdata\\anaconda3\\lib\\site-packages (from pandas) (2.9.0.post0)\n",
      "Requirement already satisfied: pytz>=2020.1 in c:\\programdata\\anaconda3\\lib\\site-packages (from pandas) (2024.1)\n",
      "Requirement already satisfied: tzdata>=2022.7 in c:\\programdata\\anaconda3\\lib\\site-packages (from pandas) (2025.2)\n",
      "Requirement already satisfied: charset-normalizer<4,>=2 in c:\\programdata\\anaconda3\\lib\\site-packages (from requests) (3.3.2)\n",
      "Requirement already satisfied: idna<4,>=2.5 in c:\\programdata\\anaconda3\\lib\\site-packages (from requests) (3.7)\n",
      "Requirement already satisfied: urllib3<3,>=1.21.1 in c:\\programdata\\anaconda3\\lib\\site-packages (from requests) (2.3.0)\n",
      "Requirement already satisfied: certifi>=2017.4.17 in c:\\programdata\\anaconda3\\lib\\site-packages (from requests) (2025.4.26)\n",
      "Requirement already satisfied: colorama in c:\\programdata\\anaconda3\\lib\\site-packages (from tqdm) (0.4.6)\n",
      "Requirement already satisfied: lxml>=3.1.0 in c:\\programdata\\anaconda3\\lib\\site-packages (from python-docx) (5.3.0)\n",
      "Requirement already satisfied: typing_extensions>=4.9.0 in c:\\programdata\\anaconda3\\lib\\site-packages (from python-docx) (4.12.2)\n",
      "Requirement already satisfied: altair<6,>=4.0 in c:\\programdata\\anaconda3\\lib\\site-packages (from streamlit) (5.5.0)\n",
      "Requirement already satisfied: blinker<2,>=1.5.0 in c:\\programdata\\anaconda3\\lib\\site-packages (from streamlit) (1.9.0)\n",
      "Requirement already satisfied: cachetools<6,>=4.0 in c:\\programdata\\anaconda3\\lib\\site-packages (from streamlit) (5.5.1)\n",
      "Requirement already satisfied: click<9,>=7.0 in c:\\programdata\\anaconda3\\lib\\site-packages (from streamlit) (8.1.8)\n",
      "Requirement already satisfied: packaging<25,>=20 in c:\\programdata\\anaconda3\\lib\\site-packages (from streamlit) (24.2)\n",
      "Requirement already satisfied: pillow<12,>=7.1.0 in c:\\programdata\\anaconda3\\lib\\site-packages (from streamlit) (11.1.0)\n",
      "Requirement already satisfied: protobuf<7,>=3.20 in c:\\programdata\\anaconda3\\lib\\site-packages (from streamlit) (5.29.3)\n",
      "Requirement already satisfied: pyarrow>=7.0 in c:\\programdata\\anaconda3\\lib\\site-packages (from streamlit) (19.0.0)\n",
      "Requirement already satisfied: tenacity<10,>=8.1.0 in c:\\programdata\\anaconda3\\lib\\site-packages (from streamlit) (9.0.0)\n",
      "Requirement already satisfied: toml<2,>=0.10.1 in c:\\programdata\\anaconda3\\lib\\site-packages (from streamlit) (0.10.2)\n",
      "Requirement already satisfied: watchdog<7,>=2.1.5 in c:\\programdata\\anaconda3\\lib\\site-packages (from streamlit) (4.0.2)\n",
      "Requirement already satisfied: gitpython!=3.1.19,<4,>=3.0.7 in c:\\programdata\\anaconda3\\lib\\site-packages (from streamlit) (3.1.43)\n",
      "Requirement already satisfied: tornado<7,>=6.0.3 in c:\\programdata\\anaconda3\\lib\\site-packages (from streamlit) (6.5.1)\n",
      "Requirement already satisfied: jinja2 in c:\\programdata\\anaconda3\\lib\\site-packages (from altair<6,>=4.0->streamlit) (3.1.6)\n",
      "Requirement already satisfied: jsonschema>=3.0 in c:\\programdata\\anaconda3\\lib\\site-packages (from altair<6,>=4.0->streamlit) (4.23.0)\n",
      "Requirement already satisfied: narwhals>=1.14.2 in c:\\programdata\\anaconda3\\lib\\site-packages (from altair<6,>=4.0->streamlit) (1.31.0)\n",
      "Requirement already satisfied: gitdb<5,>=4.0.1 in c:\\programdata\\anaconda3\\lib\\site-packages (from gitpython!=3.1.19,<4,>=3.0.7->streamlit) (4.0.7)\n",
      "Requirement already satisfied: smmap<5,>=3.0.1 in c:\\programdata\\anaconda3\\lib\\site-packages (from gitdb<5,>=4.0.1->gitpython!=3.1.19,<4,>=3.0.7->streamlit) (4.0.0)\n",
      "Requirement already satisfied: attrs>=22.2.0 in c:\\programdata\\anaconda3\\lib\\site-packages (from jsonschema>=3.0->altair<6,>=4.0->streamlit) (24.3.0)\n",
      "Requirement already satisfied: jsonschema-specifications>=2023.03.6 in c:\\programdata\\anaconda3\\lib\\site-packages (from jsonschema>=3.0->altair<6,>=4.0->streamlit) (2023.7.1)\n",
      "Requirement already satisfied: referencing>=0.28.4 in c:\\programdata\\anaconda3\\lib\\site-packages (from jsonschema>=3.0->altair<6,>=4.0->streamlit) (0.30.2)\n",
      "Requirement already satisfied: rpds-py>=0.7.1 in c:\\programdata\\anaconda3\\lib\\site-packages (from jsonschema>=3.0->altair<6,>=4.0->streamlit) (0.22.3)\n",
      "Requirement already satisfied: six>=1.5 in c:\\programdata\\anaconda3\\lib\\site-packages (from python-dateutil>=2.8.2->pandas) (1.17.0)\n",
      "Requirement already satisfied: MarkupSafe>=2.0 in c:\\programdata\\anaconda3\\lib\\site-packages (from jinja2->altair<6,>=4.0->streamlit) (3.0.2)\n",
      "Note: you may need to restart the kernel to use updated packages.\n"
     ]
    }
   ],
   "source": [
    "pip install pandas requests tqdm python-docx streamlit --no-cache-dir\n"
   ]
  },
  {
   "cell_type": "code",
   "execution_count": 6,
   "id": "4ef70e83-f203-4276-8b3a-65f7c91fdb3d",
   "metadata": {},
   "outputs": [],
   "source": [
    "import os\n",
    "import json\n",
    "import re\n",
    "import requests\n",
    "from pathlib import Path\n",
    "from tqdm import tqdm\n",
    "import pandas as pd\n",
    "from docx import Document\n",
    "from docx.shared import RGBColor\n",
    "from datetime import datetime\n",
    "\n",
    "# Folders for uploads, references, and output\n",
    "BASE = Path(\".\")\n",
    "UPLOAD_DIR = BASE / \"uploaded_docs\"\n",
    "REF_DIR = BASE / \"adgm_refs\"\n",
    "OUT_DIR = BASE / \"output\"\n",
    "\n",
    "for folder in (UPLOAD_DIR, REF_DIR, OUT_DIR):\n",
    "    folder.mkdir(exist_ok=True)\n"
   ]
  },
  {
   "cell_type": "code",
   "execution_count": 7,
   "id": "a8a962bb-5752-4269-b2b4-6e51f86dd21b",
   "metadata": {},
   "outputs": [
    {
     "name": "stdout",
     "output_type": "stream",
     "text": [
      "Downloading registration_checklist_branch...\n",
      "Saved to: adgm_refs\\branch-non-financial-services-20231228.pdf\n",
      "Downloading private_company_checklist...\n",
      "Saved to: adgm_refs\\private-company-limited-by-shares-non-financial-services-20231228.pdf\n",
      "Downloading employment_contract_2024...\n",
      "Saved to: adgm_refs\\95dc85ba5ec611efa5a1ee51fce3d4eb\n"
     ]
    }
   ],
   "source": [
    "ADGM_RESOURCES = {\n",
    "    \"registration_checklist_branch\": \"https://www.adgm.com/documents/registration-authority/registration-and-incorporation/checklist/branch-non-financial-services-20231228.pdf\",\n",
    "    \"private_company_checklist\": \"https://www.adgm.com/documents/registration-authority/registration-and-incorporation/checklist/private-company-limited-by-shares-non-financial-services-20231228.pdf\",\n",
    "    \"employment_contract_2024\": \"https://assets.adgm.com/download/assets/ADGM%2BStandard%2BEmployment%2BContract%2BTemplate%2B-%2BER%2B2024%2B%28Feb%2B2025%29.docx/95dc85ba5ec611efa5a1ee51fce3d4eb\"\n",
    "}\n",
    "\n",
    "def download_file(url, dest_folder):\n",
    "    local_name = dest_folder / url.split(\"/\")[-1].split(\"?\")[0]\n",
    "    if local_name.exists():\n",
    "        return local_name\n",
    "    resp = requests.get(url, stream=True, timeout=30)\n",
    "    resp.raise_for_status()\n",
    "    with open(local_name, \"wb\") as f:\n",
    "        for chunk in resp.iter_content(chunk_size=8192):\n",
    "            f.write(chunk)\n",
    "    return local_name\n",
    "\n",
    "for name, url in ADGM_RESOURCES.items():\n",
    "    print(f\"Downloading {name}...\")\n",
    "    path = download_file(url, REF_DIR)\n",
    "    print(\"Saved to:\", path)\n"
   ]
  },
  {
   "cell_type": "code",
   "execution_count": 8,
   "id": "1ceaec99-9bd3-417f-9d4e-2cd7a3d06e92",
   "metadata": {},
   "outputs": [],
   "source": [
    "def read_docx_text(path: Path) -> str:\n",
    "    doc = Document(path)\n",
    "    return \"\\n\".join(p.text for p in doc.paragraphs if p.text.strip())\n"
   ]
  },
  {
   "cell_type": "code",
   "execution_count": 11,
   "id": "4645f575-2ea0-48e2-b001-244f0f56d43a",
   "metadata": {},
   "outputs": [
    {
     "name": "stdout",
     "output_type": "stream",
     "text": [
      "Uploaded files: ['sample_aoa.docx', 'sample_register.docx']\n"
     ]
    }
   ],
   "source": [
    "from docx import Document\n",
    "\n",
    "# Create sample docs if empty\n",
    "if not any(UPLOAD_DIR.iterdir()):\n",
    "    # Sample AoA document\n",
    "    doc1 = Document()\n",
    "    doc1.add_paragraph(\"Articles of Association\")\n",
    "    doc1.add_paragraph(\"Jurisdiction: UAE Federal Courts\")\n",
    "    doc1.save(UPLOAD_DIR / \"sample_aoa.docx\")\n",
    "\n",
    "    # Sample Register of Members document\n",
    "    doc2 = Document()\n",
    "    doc2.add_paragraph(\"Register of Members: To be added\")\n",
    "    doc2.add_paragraph(\"Signature: __________________\")\n",
    "    doc2.save(UPLOAD_DIR / \"sample_register.docx\")\n",
    "\n",
    "print(\"Uploaded files:\", [p.name for p in list_uploaded_docs()])\n"
   ]
  },
  {
   "cell_type": "code",
   "execution_count": 12,
   "id": "a4654fa8-8db3-4559-96d6-66dc2fcc3613",
   "metadata": {},
   "outputs": [],
   "source": [
    "DOC_KEYWORDS = {\n",
    "    \"articles of association\": [\"articles of association\", \"aoa\"],\n",
    "    \"memorandum of association\": [\"memorandum of association\", \"moa\", \"memorandum\"],\n",
    "    \"register of members\": [\"register of members\", \"register of shareholders\"],\n",
    "    \"incorporation resolution\": [\"resolution\", \"incorporation\"],\n",
    "    \"employment contract\": [\"employment contract\", \"employee\", \"employer\"],\n",
    "    \"ubo declaration\": [\"beneficial owner\", \"ubo\"]\n",
    "}\n",
    "\n",
    "def classify_document(text: str):\n",
    "    text_l = text.lower()\n",
    "    scores = {}\n",
    "    for dtype, kws in DOC_KEYWORDS.items():\n",
    "        for kw in kws:\n",
    "            if kw in text_l:\n",
    "                scores[dtype] = scores.get(dtype, 0) + 1\n",
    "    return max(scores, key=scores.get) if scores else \"unknown\"\n"
   ]
  },
  {
   "cell_type": "code",
   "execution_count": 13,
   "id": "5681981d-f841-49e5-978a-0fed1d098a24",
   "metadata": {},
   "outputs": [],
   "source": [
    "REQUIRED_FOR_INCORPORATION = [\n",
    "    \"articles of association\",\n",
    "    \"memorandum of association\",\n",
    "    \"incorporation resolution\",\n",
    "    \"register of members\",\n",
    "    \"ubo declaration\"\n",
    "]\n",
    "\n",
    "def check_checklist(classified_docs):\n",
    "    missing = [d for d in REQUIRED_FOR_INCORPORATION if d not in classified_docs]\n",
    "    return {\n",
    "        \"required_documents\": len(REQUIRED_FOR_INCORPORATION),\n",
    "        \"uploaded_documents\": len(classified_docs),\n",
    "        \"missing_documents\": missing\n",
    "    }\n"
   ]
  },
  {
   "cell_type": "code",
   "execution_count": 14,
   "id": "ecf05bf8-71d3-4959-b95b-874631ca0e74",
   "metadata": {},
   "outputs": [],
   "source": [
    "def detect_red_flags(text: str, doc_name=\"\"):\n",
    "    issues = []\n",
    "    tl = text.lower()\n",
    "\n",
    "    if \"adgm\" not in tl and (\"federal court\" in tl or \"uae federal\" in tl):\n",
    "        issues.append({\n",
    "            \"document\": doc_name,\n",
    "            \"issue\": \"Wrong jurisdiction\",\n",
    "            \"severity\": \"High\",\n",
    "            \"suggestion\": \"Update jurisdiction to ADGM Courts\"\n",
    "        })\n",
    "\n",
    "    if \"________________\" in text or \"signature\" not in tl:\n",
    "        issues.append({\n",
    "            \"document\": doc_name,\n",
    "            \"issue\": \"Missing signature block\",\n",
    "            \"severity\": \"Medium\",\n",
    "            \"suggestion\": \"Add proper signature section\"\n",
    "        })\n",
    "\n",
    "    return issues\n"
   ]
  },
  {
   "cell_type": "code",
   "execution_count": 15,
   "id": "8bbbd4a2-ed87-4282-812e-32e427d32377",
   "metadata": {},
   "outputs": [],
   "source": [
    "def annotate_docx(input_path: Path, issues: list, output_path: Path):\n",
    "    doc = Document(input_path)\n",
    "    for p in doc.paragraphs:\n",
    "        for issue in issues:\n",
    "            if issue[\"issue\"].lower() in p.text.lower():\n",
    "                for run in p.runs:\n",
    "                    run.font.color.rgb = RGBColor(200, 30, 30)\n",
    "\n",
    "    doc.add_page_break()\n",
    "    doc.add_heading(\"REVIEW COMMENTS\", level=2)\n",
    "    for i, iss in enumerate(issues, 1):\n",
    "        doc.add_paragraph(f\"{i}. {iss['issue']} — {iss['suggestion']}\")\n",
    "    doc.save(output_path)\n"
   ]
  },
  {
   "cell_type": "code",
   "execution_count": 16,
   "id": "3dcc7cbb-fa74-4b48-b04f-a89ad9e81b53",
   "metadata": {},
   "outputs": [
    {
     "data": {
      "text/plain": [
       "{'documents': [{'file': 'sample_aoa.docx',\n",
       "   'type': 'articles of association',\n",
       "   'issues': 2},\n",
       "  {'file': 'sample_register.docx',\n",
       "   'type': 'register of members',\n",
       "   'issues': 1}],\n",
       " 'issues': [{'document': 'sample_aoa.docx',\n",
       "   'issue': 'Wrong jurisdiction',\n",
       "   'severity': 'High',\n",
       "   'suggestion': 'Update jurisdiction to ADGM Courts'},\n",
       "  {'document': 'sample_aoa.docx',\n",
       "   'issue': 'Missing signature block',\n",
       "   'severity': 'Medium',\n",
       "   'suggestion': 'Add proper signature section'},\n",
       "  {'document': 'sample_register.docx',\n",
       "   'issue': 'Missing signature block',\n",
       "   'severity': 'Medium',\n",
       "   'suggestion': 'Add proper signature section'}],\n",
       " 'required_documents': 5,\n",
       " 'uploaded_documents': 2,\n",
       " 'missing_documents': ['memorandum of association',\n",
       "  'incorporation resolution',\n",
       "  'ubo declaration']}"
      ]
     },
     "execution_count": 16,
     "metadata": {},
     "output_type": "execute_result"
    }
   ],
   "source": [
    "def process_all():\n",
    "    results = {\"documents\": [], \"issues\": []}\n",
    "    classified = []\n",
    "    for p in list_uploaded_docs():\n",
    "        txt = read_docx_text(p)\n",
    "        dtype = classify_document(txt)\n",
    "        classified.append(dtype)\n",
    "        issues = detect_red_flags(txt, doc_name=p.name)\n",
    "        results[\"documents\"].append({\"file\": p.name, \"type\": dtype, \"issues\": len(issues)})\n",
    "        results[\"issues\"].extend(issues)\n",
    "        annotate_docx(p, issues, OUT_DIR / f\"reviewed_{p.name}\")\n",
    "\n",
    "    results.update(check_checklist(classified))\n",
    "    with open(OUT_DIR / \"review_report.json\", \"w\") as f:\n",
    "        json.dump(results, f, indent=2)\n",
    "    return results\n",
    "\n",
    "report = process_all()\n",
    "report\n"
   ]
  },
  {
   "cell_type": "code",
   "execution_count": 19,
   "id": "735de192-1a4c-46d3-be2c-62716404f087",
   "metadata": {},
   "outputs": [
    {
     "name": "stdout",
     "output_type": "stream",
     "text": [
      "Your notebook is running here (current folder):\n",
      "  C:\\Users\\Admin \n",
      "\n",
      "Files in output/:\n",
      " - review_report.json\n",
      " - reviewed_sample_aoa.docx\n",
      " - reviewed_sample_register.docx\n"
     ]
    }
   ],
   "source": [
    "# CELL A: show current folder and list files in output/\n",
    "from pathlib import Path\n",
    "\n",
    "cwd = Path.cwd()\n",
    "print(\"Your notebook is running here (current folder):\")\n",
    "print(\" \", cwd, \"\\n\")\n",
    "\n",
    "out = cwd / \"output\"\n",
    "if out.exists() and any(out.iterdir()):\n",
    "    print(\"Files in output/:\")\n",
    "    for f in sorted(out.iterdir()):\n",
    "        print(\" -\", f.name)\n",
    "else:\n",
    "    print(\"No files found in output/.\")\n",
    "    print(\"If you haven't run the review yet, run the cell that calls process_all().\")\n"
   ]
  },
  {
   "cell_type": "code",
   "execution_count": 20,
   "id": "1c112da9-5d7e-4146-9d98-d1af3c7b5a09",
   "metadata": {},
   "outputs": [],
   "source": [
    "# CELL B (Windows)\n",
    "import os\n",
    "out = \"output\"\n",
    "if os.path.exists(out):\n",
    "    os.startfile(out)   # opens the folder in File Explorer\n",
    "else:\n",
    "    print(\"No output/ folder found. Run process_all() first.\")\n"
   ]
  },
  {
   "cell_type": "code",
   "execution_count": 21,
   "id": "f7ae4a57-b352-4a92-ad15-d54dd291e754",
   "metadata": {},
   "outputs": [
    {
     "name": "stdout",
     "output_type": "stream",
     "text": [
      "Documents reviewed: 2\n",
      "\n",
      "Missing required documents (if any):\n",
      " - memorandum of association\n",
      " - incorporation resolution\n",
      " - ubo declaration\n",
      "\n",
      "Issues found (one per line):\n",
      " - sample_aoa.docx: Wrong jurisdiction [High] -> Update jurisdiction to ADGM Courts\n",
      " - sample_aoa.docx: Missing signature block [Medium] -> Add proper signature section\n",
      " - sample_register.docx: Missing signature block [Medium] -> Add proper signature section\n"
     ]
    }
   ],
   "source": [
    "# CELL C: show review_report.json contents in a friendly way\n",
    "import json\n",
    "from pathlib import Path\n",
    "\n",
    "rep = Path(\"output\") / \"review_report.json\"\n",
    "if rep.exists():\n",
    "    data = json.loads(rep.read_text(encoding=\"utf-8\"))\n",
    "    docs = data.get(\"documents\", [])\n",
    "    print(f\"Documents reviewed: {len(docs)}\\n\")\n",
    "    \n",
    "    print(\"Missing required documents (if any):\")\n",
    "    for m in data.get(\"missing_documents\", []):\n",
    "        print(\" -\", m)\n",
    "    print()\n",
    "    \n",
    "    print(\"Issues found (one per line):\")\n",
    "    for issue in data.get(\"issues\", []):\n",
    "        doc = issue.get(\"document\", \"unknown\")\n",
    "        what = issue.get(\"issue\", \"\")\n",
    "        sev = issue.get(\"severity\", \"\")\n",
    "        sug = issue.get(\"suggestion\", \"\")\n",
    "        print(f\" - {doc}: {what} [{sev}] -> {sug}\")\n",
    "else:\n",
    "    print(\"No review_report.json found in output/. Run process_all() first.\")\n"
   ]
  },
  {
   "cell_type": "code",
   "execution_count": 22,
   "id": "d7f9582d-a486-4bcd-a398-ed36fd81b75e",
   "metadata": {},
   "outputs": [
    {
     "name": "stdout",
     "output_type": "stream",
     "text": [
      "------ reviewed_sample_aoa.docx\n",
      "p1: Articles of Association\n",
      "p2: Jurisdiction: UAE Federal Courts\n",
      "p4: REVIEW COMMENTS\n",
      "p5: 1. Wrong jurisdiction — Update jurisdiction to ADGM Courts\n",
      "p6: 2. Missing signature block — Add proper signature section\n",
      "\n",
      "------ reviewed_sample_register.docx\n",
      "p1: Register of Members: To be added\n",
      "p2: Signature: __________________\n",
      "p4: REVIEW COMMENTS\n",
      "p5: 1. Missing signature block — Add proper signature section\n",
      "\n"
     ]
    }
   ],
   "source": [
    "# CELL D: preview text from the reviewed_*.docx files\n",
    "from docx import Document\n",
    "from pathlib import Path\n",
    "\n",
    "p = Path(\"output\")\n",
    "if p.exists():\n",
    "    docs = sorted(p.glob(\"reviewed_*.docx\"))\n",
    "    if not docs:\n",
    "        print(\"No reviewed_*.docx files found in output/.\")\n",
    "    else:\n",
    "        for d in docs:\n",
    "            print(\"------\", d.name)\n",
    "            doc = Document(d)\n",
    "            # print first 6 paragraphs as a quick preview\n",
    "            for i, para in enumerate(doc.paragraphs[:6], start=1):\n",
    "                text = para.text.strip()\n",
    "                if text:\n",
    "                    print(f\"p{i}: {text}\")\n",
    "            print()\n",
    "else:\n",
    "    print(\"output/ folder not found.\")\n"
   ]
  },
  {
   "cell_type": "code",
   "execution_count": 23,
   "id": "1aa4b4ee-ec5a-4a89-a66f-4b13b838a325",
   "metadata": {},
   "outputs": [
    {
     "name": "stdout",
     "output_type": "stream",
     "text": [
      "Files in uploaded_docs/:\n",
      " - sample_aoa.docx\n",
      " - sample_register.docx\n"
     ]
    }
   ],
   "source": [
    "# CELL E: list files you originally uploaded\n",
    "from pathlib import Path\n",
    "u = Path(\"uploaded_docs\")\n",
    "if u.exists() and any(u.iterdir()):\n",
    "    print(\"Files in uploaded_docs/:\")\n",
    "    for f in sorted(u.glob(\"*.docx\")):\n",
    "        print(\" -\", f.name)\n",
    "else:\n",
    "    print(\"No files in uploaded_docs/. Put your .docx files into uploaded_docs/ and run process_all().\")\n"
   ]
  },
  {
   "cell_type": "code",
   "execution_count": 24,
   "id": "05b5f483-17aa-4076-abfa-03e3ada757d9",
   "metadata": {},
   "outputs": [
    {
     "name": "stdout",
     "output_type": "stream",
     "text": [
      "Re-run complete. New report saved to output/review_report.json\n"
     ]
    }
   ],
   "source": [
    "# CELL F: re-run the processing if your functions are loaded in the notebook\n",
    "# (This expects process_all() to exist in the same notebook as a function)\n",
    "try:\n",
    "    report = process_all()\n",
    "    print(\"Re-run complete. New report saved to output/review_report.json\")\n",
    "except NameError:\n",
    "    print(\"process_all() is not defined in this notebook. Make sure you ran the cells that define it.\")\n"
   ]
  },
  {
   "cell_type": "code",
   "execution_count": 25,
   "id": "0e665552-7ed1-48c5-b4d4-2532b130f003",
   "metadata": {},
   "outputs": [],
   "source": [
    "import os\n",
    "os.startfile(\"output\")\n"
   ]
  },
  {
   "cell_type": "code",
   "execution_count": null,
   "id": "4e97b210-c613-4d84-b0af-adb620a5f54f",
   "metadata": {},
   "outputs": [],
   "source": []
  }
 ],
 "metadata": {
  "kernelspec": {
   "display_name": "Python 3 (ipykernel)",
   "language": "python",
   "name": "python3"
  },
  "language_info": {
   "codemirror_mode": {
    "name": "ipython",
    "version": 3
   },
   "file_extension": ".py",
   "mimetype": "text/x-python",
   "name": "python",
   "nbconvert_exporter": "python",
   "pygments_lexer": "ipython3",
   "version": "3.13.5"
  }
 },
 "nbformat": 4,
 "nbformat_minor": 5
}
